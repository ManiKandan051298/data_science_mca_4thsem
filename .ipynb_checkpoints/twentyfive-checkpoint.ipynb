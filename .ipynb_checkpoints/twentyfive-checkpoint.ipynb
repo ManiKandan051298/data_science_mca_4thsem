{
 "cells": [
  {
   "cell_type": "code",
   "execution_count": 16,
   "id": "announced-shakespeare",
   "metadata": {},
   "outputs": [
    {
     "name": "stdout",
     "output_type": "stream",
     "text": [
      "   Distance    Fare\n",
      "0       4.5   18.00\n",
      "1      26.7   73.75\n",
      "2       6.7   23.00\n",
      "3      16.4   56.00\n",
      "4      32.7   83.25\n",
      "5       5.7   17.50\n",
      "6      77.0  190.50\n",
      "7       8.3   19.65\n"
     ]
    }
   ],
   "source": [
    "import pandas as pd\n",
    "df = pd.read_csv('tally_cab.csv')\n",
    "print(df)"
   ]
  },
  {
   "cell_type": "code",
   "execution_count": 13,
   "id": "adolescent-appliance",
   "metadata": {
    "scrolled": true
   },
   "outputs": [
    {
     "name": "stdout",
     "output_type": "stream",
     "text": [
      "   Distance    Fare\n",
      "0       4.5   18.00\n",
      "1      26.7   73.75\n",
      "2       6.7   23.00\n",
      "3      16.4   56.00\n",
      "4      32.7   83.25\n",
      "5       5.7   17.50\n",
      "6      77.0  190.50\n",
      "7       8.3   19.65\n"
     ]
    }
   ],
   "source": [
    "import pandas as pd\n",
    "df = pd.read_excel('tally_cab.xlsx')\n",
    "print(df)"
   ]
  },
  {
   "cell_type": "code",
   "execution_count": 14,
   "id": "herbal-prime",
   "metadata": {},
   "outputs": [
    {
     "name": "stdout",
     "output_type": "stream",
     "text": [
      "      SUB/SEM  SUBJECT 1  SUBJECT 2  SUBJECT 3  SUBJECT 4  SUBJECT 5  \\\n",
      "0  SEMESTER 1         88         73         92         68         75   \n",
      "1  SEMESTER 2         88         93        100         72         94   \n",
      "2  SEMESTER 3         94         90         90         98         92   \n",
      "\n",
      "   SUBJECT 6  SUBJECT 7  SUBJECT 8  \n",
      "0         66        NaN        NaN  \n",
      "1         94       95.0        NaN  \n",
      "2         72       55.0       89.0  \n"
     ]
    }
   ],
   "source": [
    "import pandas as pd\n",
    "df = pd.read_excel('marks.xlsx')\n",
    "print(df)"
   ]
  },
  {
   "cell_type": "code",
   "execution_count": 15,
   "id": "champion-parks",
   "metadata": {},
   "outputs": [
    {
     "name": "stdout",
     "output_type": "stream",
     "text": [
      "      SUB/SEM  SUBJECT 1  SUBJECT 2  SUBJECT 3  SUBJECT 4  SUBJECT 5  \\\n",
      "0  SEMESTER 1         88         73         92         68         75   \n",
      "1  SEMESTER 2         88         93        100         72         94   \n",
      "2  SEMESTER 3         94         90         90         98         92   \n",
      "\n",
      "   SUBJECT 6  SUBJECT 7  SUBJECT 8  \n",
      "0         66        NaN        NaN  \n",
      "1         94       95.0        NaN  \n",
      "2         72       55.0       89.0  \n"
     ]
    }
   ],
   "source": [
    "import pandas as pd\n",
    "df = pd.read_csv('mark.csv')\n",
    "print(df)"
   ]
  }
 ],
 "metadata": {
  "kernelspec": {
   "display_name": "Python 3",
   "language": "python",
   "name": "python3"
  },
  "language_info": {
   "codemirror_mode": {
    "name": "ipython",
    "version": 3
   },
   "file_extension": ".py",
   "mimetype": "text/x-python",
   "name": "python",
   "nbconvert_exporter": "python",
   "pygments_lexer": "ipython3",
   "version": "3.8.2"
  }
 },
 "nbformat": 4,
 "nbformat_minor": 5
}
