{
 "cells": [
  {
   "cell_type": "code",
   "execution_count": 1,
   "id": "announced-shakespeare",
   "metadata": {},
   "outputs": [
    {
     "name": "stdout",
     "output_type": "stream",
     "text": [
      "    Unnamed: 0                                       Subject Name  Mark  \\\n",
      "0            1       Mathematical Foundations of Computer science    51   \n",
      "1            2            Digital Logic and Computer Organization    78   \n",
      "2            3                       Problem Solving using Python    82   \n",
      "3            4                        Database Management Systems    86   \n",
      "4            5                       Research Methodology and IPR    78   \n",
      "5            6                   Programming in Python Laboratory    91   \n",
      "6            7             Database Management Systems Laboratory    90   \n",
      "7            8                  C Programming and Data Structures    85   \n",
      "8            9                                  Operating Systems    82   \n",
      "9           10                               Software Engineering    89   \n",
      "10          11                              Advances in Databases    91   \n",
      "11          12                                    Web Programming    85   \n",
      "12          13       C Programming and Data Structures Laboratory    94   \n",
      "13          14                         Web Programming Laboratory    90   \n",
      "14          15                Computer Communication and Networks    84   \n",
      "15          16                                   Java Programming    85   \n",
      "16          17      Advanced Data Structures and Algorithm Design    88   \n",
      "17          18                   Introduction to Machine Learning    81   \n",
      "18          19                                    Big Data with R    80   \n",
      "19          20            Java Programming andNetworks Laboratory    95   \n",
      "20          21  Advanced Data Structures and Algorithms Labora...    92   \n",
      "21          22                          Socially Relevant Project    90   \n",
      "\n",
      "    Semester  Category  Credits  \n",
      "0          1      Core        4  \n",
      "1          1      Core        3  \n",
      "2          1      Core        3  \n",
      "3          1      Core        3  \n",
      "4          1       RMC        2  \n",
      "5          1       Lab        2  \n",
      "6          1       Lab        2  \n",
      "7          2      Core        3  \n",
      "8          2      Core        4  \n",
      "9          2      Core        3  \n",
      "10         2      Core        3  \n",
      "11         2      Core        3  \n",
      "12         2       Lab        2  \n",
      "13         2       Lab        2  \n",
      "14         3      Core        4  \n",
      "15         3      Core        3  \n",
      "16         3      Core        3  \n",
      "17         3  Elective        3  \n",
      "18         3  Elective        3  \n",
      "19         3       Lab        2  \n",
      "20         3       Lab        2  \n",
      "21         3       Lab        1  \n"
     ]
    }
   ],
   "source": [
    "import pandas as pd\n",
    "df = pd.read_csv('subjects.csv')\n",
    "print(df)"
   ]
  },
  {
   "cell_type": "code",
   "execution_count": 2,
   "id": "adolescent-appliance",
   "metadata": {
    "scrolled": true
   },
   "outputs": [
    {
     "name": "stdout",
     "output_type": "stream",
     "text": [
      "   Distance    Fare\n",
      "0       4.5   18.00\n",
      "1      26.7   73.75\n",
      "2       6.7   23.00\n",
      "3      16.4   56.00\n",
      "4      32.7   83.25\n",
      "5       5.7   17.50\n",
      "6      77.0  190.50\n",
      "7       8.3   19.65\n"
     ]
    }
   ],
   "source": [
    "import pandas as pd\n",
    "df = pd.read_excel('tally_cab.xlsx')\n",
    "print(df)"
   ]
  },
  {
   "cell_type": "code",
   "execution_count": 8,
   "id": "herbal-prime",
   "metadata": {},
   "outputs": [
    {
     "name": "stdout",
     "output_type": "stream",
     "text": [
      "   Unnamed: 0                                  Subject Name  Mark  Semester  \\\n",
      "0           1  Mathematical Foundations of Computer science    51         1   \n",
      "1           2       Digital Logic and Computer Organization    78         1   \n",
      "2           3                  Problem Solving using Python    82         1   \n",
      "3           4                   Database Management Systems    86         1   \n",
      "4           5                  Research Methodology and IPR    78         1   \n",
      "5           6              Programming in Python Laboratory    91         1   \n",
      "6           7        Database Management Systems Laboratory    90         1   \n",
      "7           8             C Programming and Data Structures    85         2   \n",
      "8           9                             Operating Systems    82         2   \n",
      "9          10                          Software Engineering    89         2   \n",
      "\n",
      "  Category  Credits  \n",
      "0     Core        4  \n",
      "1     Core        3  \n",
      "2     Core        3  \n",
      "3     Core        3  \n",
      "4      RMC        2  \n",
      "5      Lab        2  \n",
      "6      Lab        2  \n",
      "7     Core        3  \n",
      "8     Core        4  \n",
      "9     Core        3  \n",
      "    Unnamed: 0                                       Subject Name  Mark  \\\n",
      "20          21  Advanced Data Structures and Algorithms Labora...    92   \n",
      "21          22                          Socially Relevant Project    90   \n",
      "\n",
      "    Semester Category  Credits  \n",
      "20         3      Lab        2  \n",
      "21         3      Lab        1  \n",
      "84.86363636363636\n",
      "Median: 85.5\n",
      "count    22.000000\n",
      "mean     84.863636\n",
      "std       9.041152\n",
      "min      51.000000\n",
      "25%      82.000000\n",
      "50%      85.500000\n",
      "75%      90.000000\n",
      "max      95.000000\n",
      "Name: Mark, dtype: float64\n"
     ]
    }
   ],
   "source": [
    "import pandas as pd\n",
    "df = pd.read_excel('subjects.xlsx')\n",
    "with pd.option_context('display.max_rows', None, 'display.max_columns', None):\n",
    "    print(df.head(10))\n",
    "    print(df.tail(2))\n",
    "#mean\n",
    "print(df['Mark'].mean())\n",
    "#median\n",
    "print(\"Median:\", df['Mark'].median())\n",
    "print(df['Mark'].describe())"
   ]
  },
  {
   "cell_type": "code",
   "execution_count": 15,
   "id": "champion-parks",
   "metadata": {},
   "outputs": [
    {
     "name": "stdout",
     "output_type": "stream",
     "text": [
      "      SUB/SEM  SUBJECT 1  SUBJECT 2  SUBJECT 3  SUBJECT 4  SUBJECT 5  \\\n",
      "0  SEMESTER 1         88         73         92         68         75   \n",
      "1  SEMESTER 2         88         93        100         72         94   \n",
      "2  SEMESTER 3         94         90         90         98         92   \n",
      "\n",
      "   SUBJECT 6  SUBJECT 7  SUBJECT 8  \n",
      "0         66        NaN        NaN  \n",
      "1         94       95.0        NaN  \n",
      "2         72       55.0       89.0  \n"
     ]
    }
   ],
   "source": [
    "import pandas as pd\n",
    "df = pd.read_csv('mark.csv')\n",
    "print(df)"
   ]
  }
 ],
 "metadata": {
  "kernelspec": {
   "display_name": "Python 3",
   "language": "python",
   "name": "python3"
  },
  "language_info": {
   "codemirror_mode": {
    "name": "ipython",
    "version": 3
   },
   "file_extension": ".py",
   "mimetype": "text/x-python",
   "name": "python",
   "nbconvert_exporter": "python",
   "pygments_lexer": "ipython3",
   "version": "3.8.2"
  }
 },
 "nbformat": 4,
 "nbformat_minor": 5
}
